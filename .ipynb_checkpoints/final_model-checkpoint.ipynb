{
 "cells": [
  {
   "cell_type": "code",
   "execution_count": 1,
   "metadata": {},
   "outputs": [],
   "source": [
    "import math\n",
    "import numpy as np\n",
    "import pandas as pd\n",
    "import seaborn as sns\n",
    "from scipy import stats\n",
    "import statsmodels.api as sm\n",
    "import matplotlib.pyplot as plt\n",
    "from sklearn.linear_model import LinearRegression\n",
    "from sklearn.linear_model import ElasticNet\n",
    "from sklearn.datasets import make_regression\n",
    "import statsmodels.formula.api as smf\n"
   ]
  },
  {
   "cell_type": "code",
   "execution_count": 2,
   "metadata": {},
   "outputs": [],
   "source": [
    "df = pd.read_csv('data/train_data.csv', delimiter=',')\n",
    "\n",
    "cols = df.columns[3:-1]\n",
    "numFeatures = len(cols)\n",
    "\n",
    "df = df.dropna(subset=cols) #drop na cells \n",
    "df = df[df.bedrooms <= 15]\n",
    "df = df[df.sqft_lot <= 1250000]\n",
    "df = df[df.sqft_above <= 7000]\n",
    "df = df[df.sqft_basement <= 3500]\n",
    "df = df[df.sqft_lot15 <= 500000]\n",
    "\n",
    "scores = []\n",
    "for i in df['yr_renovated']:\n",
    "    if i != 0:\n",
    "        scores.append((i - 2015) + 82)\n",
    "    else:\n",
    "        scores.append(0)\n",
    "df['renovation_score'] = scores\n",
    "\n",
    "landvalue = []\n",
    "view = list(df['view'])\n",
    "water = list(df['waterfront'])\n",
    "living = list(df['sqft_living'])\n",
    "lot = list(df['sqft_lot'])\n",
    "grade = list(df['grade'])\n",
    "condition = list(df['condition'])\n",
    "for i in range(len(water)):\n",
    "    value = (view[i] + 1) * living[i]\n",
    "    if water[i] == 1:\n",
    "        value  = value * 2\n",
    "    value = value / lot[i]\n",
    "    landvalue.append(value)\n",
    "df['landvalue'] = landvalue\n",
    "\n",
    "centerpoint= (47.628591, -122.289796)  #center point of city center\n",
    "dist_df = df.loc[:,['Unique_idx','lat','long','price']]\n",
    "dist_df['dist_latLon'] = np.sqrt(np.square(dist_df['lat']- centerpoint[0]) + np.square(dist_df['long']-centerpoint[1]))\n",
    "df['distFromSeattle'] = dist_df['dist_latLon']\n",
    "# df = df.drop(['lat', 'long'], axis=1)\n",
    "\n",
    "\n",
    "#202272.96564043706\n",
    "cols1 = ['bedrooms', 'bathrooms', 'sqft_living', 'sqft_lot', 'floors','waterfront', 'view', 'condition', 'grade', 'sqft_above','sqft_basement', 'yr_built', 'zipcode', 'lat', 'long', 'yr_renovated', 'sqft_living15', 'sqft_lot15', 'price']\n",
    "\n",
    "#193483.43463007256\n",
    "cols2 = ['bedrooms', 'bathrooms', 'sqft_living', 'sqft_lot', 'floors','landvalue','waterfront', 'view', 'condition', 'grade', 'sqft_above','sqft_basement', 'yr_built', 'distFromSeattle', 'zipcode', 'lat', 'long', 'yr_renovated', 'renovation_score', 'sqft_living15', 'sqft_lot15', 'price']\n",
    "\n",
    "#200158.15498220024\n",
    "cols3 = ['bedrooms', 'bathrooms', 'sqft_living', 'sqft_lot', 'floors','landvalue', 'condition', 'grade', 'sqft_above','sqft_basement', 'yr_built', 'distFromSeattle', 'renovation_score', 'sqft_living15', 'sqft_lot15', 'price']\n",
    "\n",
    "\n",
    "df_train1 = df.loc[:,cols1]\n",
    "df_train2 = df.loc[:,cols2]\n",
    "df_train3 = df.loc[:,cols3]"
   ]
  },
  {
   "cell_type": "code",
   "execution_count": 3,
   "metadata": {},
   "outputs": [],
   "source": [
    "# train_df = pd.read_csv('./data/train_data.csv')\n",
    "# val_df = pd.read_csv('./data/val_data.csv')\n",
    "# sample_df = pd.read_csv('./data/sample_submission.csv')\n",
    "\n",
    "percent = 0.7  #choose percent to split \n",
    "n= df_train2.shape[0] #number of rows in data set before splitting\n",
    "s= math.floor(percent * n)\n",
    "y= df_train2.iloc[0:s,-1]\n",
    "X = df_train2.iloc[0:s,:-1]\n",
    "\n",
    "y_test= df_train2.iloc[s:n,-1]\n",
    "X_test = df_train2.iloc[s:n,:-1]"
   ]
  },
  {
   "cell_type": "code",
   "execution_count": 5,
   "metadata": {},
   "outputs": [
    {
     "data": {
      "text/html": [
       "<table class=\"simpletable\">\n",
       "<caption>OLS Regression Results</caption>\n",
       "<tr>\n",
       "  <th>Dep. Variable:</th>          <td>price</td>      <th>  R-squared:         </th>  <td>   0.744</td>  \n",
       "</tr>\n",
       "<tr>\n",
       "  <th>Model:</th>                   <td>OLS</td>       <th>  Adj. R-squared:    </th>  <td>   0.743</td>  \n",
       "</tr>\n",
       "<tr>\n",
       "  <th>Method:</th>             <td>Least Squares</td>  <th>  F-statistic:       </th>  <td>   2060.</td>  \n",
       "</tr>\n",
       "<tr>\n",
       "  <th>Date:</th>             <td>Wed, 12 Feb 2020</td> <th>  Prob (F-statistic):</th>   <td>  0.00</td>   \n",
       "</tr>\n",
       "<tr>\n",
       "  <th>Time:</th>                 <td>16:17:00</td>     <th>  Log-Likelihood:    </th> <td>-1.6321e+05</td>\n",
       "</tr>\n",
       "<tr>\n",
       "  <th>No. Observations:</th>      <td> 12098</td>      <th>  AIC:               </th>  <td>3.265e+05</td> \n",
       "</tr>\n",
       "<tr>\n",
       "  <th>Df Residuals:</th>          <td> 12080</td>      <th>  BIC:               </th>  <td>3.266e+05</td> \n",
       "</tr>\n",
       "<tr>\n",
       "  <th>Df Model:</th>              <td>    17</td>      <th>                     </th>      <td> </td>     \n",
       "</tr>\n",
       "<tr>\n",
       "  <th>Covariance Type:</th>      <td>nonrobust</td>    <th>                     </th>      <td> </td>     \n",
       "</tr>\n",
       "</table>"
      ],
      "text/plain": [
       "<class 'statsmodels.iolib.table.SimpleTable'>"
      ]
     },
     "execution_count": 5,
     "metadata": {},
     "output_type": "execute_result"
    }
   ],
   "source": [
    "X['price']=y  #need to add price as last col for statsmodel\n",
    "\n",
    "est03 = smf.ols('price ~ bedrooms + bathrooms + sqft_living + sqft_lot + floors + landvalue + waterfront + view + condition + grade + sqft_above + sqft_basement + yr_built + zipcode + yr_renovated +renovation_score +distFromSeattle + np.power(distFromSeattle, 2)', X).fit()\n",
    "#cols2 = ['              bedrooms', 'bathrooms', 'sqft_living', 'sqft_lot', 'floors','landvalue','waterfront', 'view', 'condition', 'grade', 'sqft_above','sqft_basement', 'yr_built', 'distFromSeattle', 'zipcode', 'lat', 'long', 'yr_renovated', 'renovation_score', 'sqft_living15', 'sqft_lot15', 'price']\n",
    "\n",
    "est03.summary().tables[0]"
   ]
  },
  {
   "cell_type": "code",
   "execution_count": 6,
   "metadata": {},
   "outputs": [
    {
     "data": {
      "text/html": [
       "<table class=\"simpletable\">\n",
       "<tr>\n",
       "                <td></td>                  <th>coef</th>     <th>std err</th>      <th>t</th>      <th>P>|t|</th>  <th>[0.025</th>    <th>0.975]</th>  \n",
       "</tr>\n",
       "<tr>\n",
       "  <th>Intercept</th>                    <td> 8.072e+07</td> <td> 3.57e+06</td> <td>   22.615</td> <td> 0.000</td> <td> 7.37e+07</td> <td> 8.77e+07</td>\n",
       "</tr>\n",
       "<tr>\n",
       "  <th>bedrooms</th>                     <td>-3.451e+04</td> <td> 2320.638</td> <td>  -14.871</td> <td> 0.000</td> <td>-3.91e+04</td> <td>   -3e+04</td>\n",
       "</tr>\n",
       "<tr>\n",
       "  <th>bathrooms</th>                    <td> 2.154e+04</td> <td> 3835.545</td> <td>    5.615</td> <td> 0.000</td> <td>  1.4e+04</td> <td> 2.91e+04</td>\n",
       "</tr>\n",
       "<tr>\n",
       "  <th>sqft_living</th>                  <td>  116.7613</td> <td>    2.546</td> <td>   45.864</td> <td> 0.000</td> <td>  111.771</td> <td>  121.752</td>\n",
       "</tr>\n",
       "<tr>\n",
       "  <th>sqft_lot</th>                     <td>    0.2247</td> <td>    0.044</td> <td>    5.138</td> <td> 0.000</td> <td>    0.139</td> <td>    0.310</td>\n",
       "</tr>\n",
       "<tr>\n",
       "  <th>floors</th>                       <td>-4.002e+04</td> <td> 4601.127</td> <td>   -8.698</td> <td> 0.000</td> <td> -4.9e+04</td> <td> -3.1e+04</td>\n",
       "</tr>\n",
       "<tr>\n",
       "  <th>landvalue</th>                    <td> 1.614e+04</td> <td> 5010.541</td> <td>    3.221</td> <td> 0.001</td> <td> 6317.260</td> <td>  2.6e+04</td>\n",
       "</tr>\n",
       "<tr>\n",
       "  <th>waterfront</th>                   <td>  5.31e+05</td> <td> 2.05e+04</td> <td>   25.920</td> <td> 0.000</td> <td> 4.91e+05</td> <td> 5.71e+05</td>\n",
       "</tr>\n",
       "<tr>\n",
       "  <th>view</th>                         <td> 4.742e+04</td> <td> 2925.599</td> <td>   16.210</td> <td> 0.000</td> <td> 4.17e+04</td> <td> 5.32e+04</td>\n",
       "</tr>\n",
       "<tr>\n",
       "  <th>condition</th>                    <td> 2.955e+04</td> <td> 2733.827</td> <td>   10.808</td> <td> 0.000</td> <td> 2.42e+04</td> <td> 3.49e+04</td>\n",
       "</tr>\n",
       "<tr>\n",
       "  <th>grade</th>                        <td> 8.502e+04</td> <td> 2425.311</td> <td>   35.055</td> <td> 0.000</td> <td> 8.03e+04</td> <td> 8.98e+04</td>\n",
       "</tr>\n",
       "<tr>\n",
       "  <th>sqft_above</th>                   <td>  101.6972</td> <td>    2.628</td> <td>   38.690</td> <td> 0.000</td> <td>   96.545</td> <td>  106.850</td>\n",
       "</tr>\n",
       "<tr>\n",
       "  <th>sqft_basement</th>                <td>   15.0642</td> <td>    3.191</td> <td>    4.721</td> <td> 0.000</td> <td>    8.810</td> <td>   21.319</td>\n",
       "</tr>\n",
       "<tr>\n",
       "  <th>yr_built</th>                     <td>-1060.8083</td> <td>   89.698</td> <td>  -11.826</td> <td> 0.000</td> <td>-1236.632</td> <td> -884.985</td>\n",
       "</tr>\n",
       "<tr>\n",
       "  <th>zipcode</th>                      <td> -803.6683</td> <td>   36.061</td> <td>  -22.286</td> <td> 0.000</td> <td> -874.354</td> <td> -732.982</td>\n",
       "</tr>\n",
       "<tr>\n",
       "  <th>yr_renovated</th>                 <td>  -51.7006</td> <td>   16.506</td> <td>   -3.132</td> <td> 0.002</td> <td>  -84.055</td> <td>  -19.347</td>\n",
       "</tr>\n",
       "<tr>\n",
       "  <th>renovation_score</th>             <td> 2405.6111</td> <td>  511.694</td> <td>    4.701</td> <td> 0.000</td> <td> 1402.609</td> <td> 3408.614</td>\n",
       "</tr>\n",
       "<tr>\n",
       "  <th>distFromSeattle</th>              <td>-2.538e+06</td> <td> 4.85e+04</td> <td>  -52.382</td> <td> 0.000</td> <td>-2.63e+06</td> <td>-2.44e+06</td>\n",
       "</tr>\n",
       "<tr>\n",
       "  <th>np.power(distFromSeattle, 2)</th> <td> 2.877e+06</td> <td> 8.31e+04</td> <td>   34.619</td> <td> 0.000</td> <td> 2.71e+06</td> <td> 3.04e+06</td>\n",
       "</tr>\n",
       "</table>"
      ],
      "text/plain": [
       "<class 'statsmodels.iolib.table.SimpleTable'>"
      ]
     },
     "execution_count": 6,
     "metadata": {},
     "output_type": "execute_result"
    }
   ],
   "source": [
    "est03.summary().tables[1]"
   ]
  },
  {
   "cell_type": "code",
   "execution_count": 7,
   "metadata": {},
   "outputs": [
    {
     "name": "stdout",
     "output_type": "stream",
     "text": [
      "mse (stats model) =  188598.00121326977\n"
     ]
    }
   ],
   "source": [
    "#compare to test data\n",
    "yhat = est03.predict(X_test)\n",
    "yhat = yhat.astype(int)\n",
    "#print(y_test)\n",
    "#print(yhat)\n",
    "#print(np.abs(yhat-y_test))\n",
    "delta = yhat - y_test\n",
    "mse = np.sqrt(np.mean(np.square(delta)))\n",
    "print('mse (stats model) = ', mse)\n",
    "#188662.44865167243"
   ]
  },
  {
   "cell_type": "code",
   "execution_count": null,
   "metadata": {},
   "outputs": [],
   "source": []
  }
 ],
 "metadata": {
  "kernelspec": {
   "display_name": "Python 3",
   "language": "python",
   "name": "python3"
  },
  "language_info": {
   "codemirror_mode": {
    "name": "ipython",
    "version": 3
   },
   "file_extension": ".py",
   "mimetype": "text/x-python",
   "name": "python",
   "nbconvert_exporter": "python",
   "pygments_lexer": "ipython3",
   "version": "3.7.3"
  }
 },
 "nbformat": 4,
 "nbformat_minor": 2
}
